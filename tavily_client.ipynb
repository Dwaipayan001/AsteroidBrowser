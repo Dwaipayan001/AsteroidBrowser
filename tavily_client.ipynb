{
 "cells": [
  {
   "cell_type": "code",
   "execution_count": 1,
   "metadata": {},
   "outputs": [
    {
     "data": {
      "text/plain": [
       "{'query': \"Tell me about Intel's performance in Semiconductor Domain\",\n",
       " 'follow_up_questions': None,\n",
       " 'answer': \"Intel's recent performance in the semiconductor domain has been marked by mixed results. Despite reporting Q3 earnings that beat revenue expectations but fell short on earnings per share due to impairment charges, Intel's Client Computing segment and Foundry business showed revenue of $7.3 billion and $4.35 billion respectively. The company is facing challenges such as manufacturing missteps and competition from Taiwan Semiconductor Manufacturing, Nvidia, and Advanced Micro Devices. However, Intel is making strategic moves to regain its footing, including cutting 15% of its workforce and focusing on its Foundry ambitions, which have led to stock surges and collaborations with major tech companies like Microsoft and Amazon. Analysts suggest that Intel's potential recovery hinges on its ability to execute its 18A manufacturing technology and deliver competitive products.\",\n",
       " 'images': [{'url': 'https://www.intel.com/content/dam/developer/articles/technical/trust-domain-extensions-on-4th-gen-xeon-processors/performance-considerations-image-3.png',\n",
       "   'description': None},\n",
       "  {'url': 'https://www.hardware.com.br/wp-content/uploads/2025/01/Global-Semiconductor-Companies-by-Market-Cap_Web.jpg',\n",
       "   'description': 'NVIDIA leads the semiconductor industry with a market cap of $3.4 trillion, followed by TSMC at $1.0 trillion, reflecting strong performance and dominance in the domain.'},\n",
       "  {'url': 'https://www.euractiv.com/wp-content/uploads/sites/2/2021/12/Intel-chip-scaled.jpg',\n",
       "   'description': None},\n",
       "  {'url': 'https://media.licdn.com/dms/image/v2/D4E22AQHMXEQmg8sMPQ/feedshare-shrink_2048_1536/B4EZZjwHXwHkAo-/0/1745430280665?e=2147483647&v=beta&t=C8x_p2CKkRU0Zud8ZXlWR7HUqpGU4iRE4dyu4cAAu8Q',\n",
       "   'description': 'The image features a promotional graphic for a webinar titled \"Can Intel Reclaim Its Crown in the Semiconductor World?\" with a visual of a large Intel Core Ultra processor against a backdrop of Earth illuminated by city lights, emphasizing strategic leadership and the future of semiconductors.'},\n",
       "  {'url': 'https://qtxasset.com/quartz/qcloud4/styles/full_body_width/s3/media/image/Intel+pressure+map+Gold+diagram.jpg?VersionId=E1eKr4GQo1T1hcu11_uiMKxuc5_oLtHj&itok=BvYAnOO7',\n",
       "   'description': \"The image features a pressure map illustrating Intel's position across various domains in the semiconductor industry, including partnerships with TSMC, Samsung, AMD, Qualcomm, Nvidia, Marvel, and AWS/GCP/Azure, highlighting their focus areas such as AI, cloud, GPUs, data processing units, and autonomous vehicles.\"}],\n",
       " 'results': [{'url': 'https://finance.yahoo.com/news/intel-stock-jumps-on-positive-outlook-despite-q3-losses-201212146.html',\n",
       "   'title': 'Intel to report Q3 earnings as Wall Street looks for signs of improvements at chipmaker - Yahoo Finance',\n",
       "   'score': 0.8426609635353088,\n",
       "   'published_date': 'Thu, 31 Oct 2024 15:51:36 GMT',\n",
       "   'content': \"Intel (INTC) reported its Q3 earnings after the bell on Thursday beating expectations on revenue, but falling short on earnings per share due to impairment charges. Intel's Client Computing segment, which deals with the sale of chips for laptops and desktops, brought in revenue of $7.3 billion, versus expectations of $7.4 billion and $7.8 billion in revenue during the same last year. Intel’s Foundry business, which is responsible for making chips for Intel and for third-party customers, saw revenue of $4.35 billion. Intel is dealing with the fallout from a Reuters report detailing missteps at the firm, including issues with its 18A chip manufacturing process and the dissolution of a potential deal with Waymo to provide chips to the self-driving car company to save cash.\",\n",
       "   'raw_content': None},\n",
       "  {'url': 'https://www.jomfruland.net/intels-bold-move-how-its-becoming-a-vital-player-in-the-ai-revolution/',\n",
       "   'title': 'Intel’s Bold Move: How It’s Becoming a Vital Player in the AI Revolution - Jomfruland.net',\n",
       "   'score': 0.842312216758728,\n",
       "   'published_date': 'Mon, 03 Mar 2025 16:56:40 GMT',\n",
       "   'content': 'Intel is redefining its role in the AI landscape through advanced chip manufacturing and strategic partnerships. By embracing a dynamic approach and investing in cutting-edge technology, Intel positions itself as a leader in semiconductor manufacturing, poised to catalyze the next wave of AI advancements. As the race for AI supremacy intensifies, Intel’s technological capabilities and strategic foresight herald a new dawn, underscoring the importance of innovation in shaping our digital future. 1. Stay Updated on AI Trends: Follow Intel’s innovations in AI chip technology to understand their applicability across various sectors. As the demand for smarter, faster, and efficient AI solutions grows, Intel’s endeavors not only shape its future but also the future of global technology innovation.',\n",
       "   'raw_content': None},\n",
       "  {'url': 'https://www.iotworldtoday.com/industry/intel-slashes-15-of-workforce-as-new-ceo-battles-financial-crisis',\n",
       "   'title': 'Intel Slashes 15% of Workforce as New CEO Battles Financial Crisis - IoT World Today',\n",
       "   'score': 0.8374276757240295,\n",
       "   'published_date': 'Fri, 25 Jul 2025 14:55:07 GMT',\n",
       "   'content': \"Berenice Baker, Editor, Enter Quantum, co-editor AI Business, Informa TechTarget Industry analysts point to several factors behind Intel's decline: Manufacturing missteps that allowed Taiwan Semiconductor Manufacturing to overtake Intel with more advanced chip fabrication technology, Nvidia's dominance in the booming AI chip market, where Intel has struggled to gain traction, Advanced Micro Devices steadily eroding Intel's market share in its core PC and server processor businesses and overinvestment in manufacturing capacity without securing adequate customer demand. Intel intends to fundamentally change its approach to building its chip manufacturing business, implementing stricter financial controls after years of what Tan characterized as excessive spending without adequate demand. The success of Tan's restructuring plan will likely hinge on Intel's ability to execute its 18A manufacturing technology rollout and deliver competitive products across its portfolio.\",\n",
       "   'raw_content': None},\n",
       "  {'url': 'https://markets.financialcontent.com/stocks/article/marketminute-2025-10-2-intels-resurgent-fortunes-stock-soars-as-foundry-ambitions-take-center-stage',\n",
       "   'title': \"Intel's Resurgent Fortunes: Stock Soars as Foundry Ambitions Take Center Stage - FinancialContent\",\n",
       "   'score': 0.8338892459869385,\n",
       "   'published_date': 'Thu, 02 Oct 2025 14:40:00 GMT',\n",
       "   'content': \"Key developments in IFS include early-stage talks with long-time rival Advanced Micro Devices (NASDAQ: AMD) to potentially manufacture chips, a move that would represent a significant strategic victory for Intel given AMD's current reliance on Taiwan Semiconductor Manufacturing Company (NYSE: TSM). Microsoft (NASDAQ: MSFT) and Amazon (NASDAQ: AMZN), as confirmed IFS customers, stand to gain from direct access to Intel's advanced process technologies for their in-house chip designs, potentially enhancing their competitive edge in cloud and AI. For existing partners like Nvidia (NASDAQ: NVDA), Microsoft (NASDAQ: MSFT), and Amazon (NASDAQ: AMZN), Intel's foundry services offer enhanced collaboration opportunities and a more secure, potentially localized, supply chain for their critical chip designs.\",\n",
       "   'raw_content': None},\n",
       "  {'url': 'https://www.jomfruland.net/intels-ups-and-downs-is-a-turnaround-on-the-horizon/',\n",
       "   'title': 'Intel’s Ups and Downs: Is a Turnaround on the Horizon? - Jomfruland.net',\n",
       "   'score': 0.8335971832275391,\n",
       "   'published_date': 'Wed, 15 Jan 2025 20:59:54 GMT',\n",
       "   'content': 'Intel’s recent financial struggles and strategic pivots present both challenges and opportunities for the semiconductor industry and have broader implications for the environment, humanity, and the economy, particularly in the context of rapid technological advancements. Intel’s commitment to reinvigorate its semiconductor manufacturing capabilities is a crucial step toward maintaining the United States’ position in the global tech landscape, especially amidst political uncertainties regarding China’s dominance in chip production. The increasing demand for advanced semiconductors is fueled by innovations in generative AI and the proliferation of chips across diverse technologies, presenting Intel with potential growth avenues. Moreover, analysts point to the current undervaluation of Intel’s stock relative to competitors like AMD and Nvidia, leading many to speculate that there are substantial opportunities for recovery and growth in the semiconductor sphere.',\n",
       "   'raw_content': None},\n",
       "  {'url': 'https://www.jomfruland.net/intels-bold-moves-are-they-the-future-of-semiconductor-stocks/',\n",
       "   'title': 'Intel’s Bold Moves: Are They the Future of Semiconductor Stocks? - Jomfruland.net',\n",
       "   'score': 0.8306090235710144,\n",
       "   'published_date': 'Wed, 05 Feb 2025 20:06:26 GMT',\n",
       "   'content': 'Intel’s “Angstrom” era technology aims to revolutionize chip manufacturing by reducing transistor size, enhancing performance and energy efficiency. Intel’s innovations present an opportunity for investors, with potential stock growth driven by technological advances and strategic partnerships. As Intel ventures into new technological terrains, its stock is poised for a potential upswing fueled by innovation-driven growth. Prospective investors should keep a close watch on Intel’s forthcoming product unveilings and strategic alliances, as these could steer future stock trajectories. Intel’s daring strides in technology and strategic focus on AI point to an exciting future for INTC stock, aligning with the next wave of technological advancement. – Potential Growth in Stock Value: Intel’s innovation-driven approach could lead to substantial growth in stock value, presenting lucrative opportunities for investors.',\n",
       "   'raw_content': None},\n",
       "  {'url': 'https://ca.news.yahoo.com/secondary-title-200-best-inventions-110953499.html',\n",
       "   'title': 'Tilta Khronos Ecosystem: the 200 Best Inventions of 2024 - Yahoo News Canada',\n",
       "   'score': 0.8275555968284607,\n",
       "   'published_date': 'Wed, 30 Oct 2024 14:04:18 GMT',\n",
       "   'content': \"Shareholders have turned their focus to CEO Pat Gelsinger's attempts to salvage the company's lost market lead as losses mount at its contract manufacturing business, while Intel fails to capitalize on the generative AI-driven chip boom, after a series of missteps including passing on an investment in OpenAI. With Wall Street expecting Intel to report an 8% decline in revenue to $13.02 billion, according to data from LSEG compiled as of Oct. 26, investors want Gelsinger to provide clarity on his plans to get the company's latest manufacturing technology up and running. Apple is expected to report its biggest quarterly revenue jump in two years on Thursday, with iPhone demand faring better than recent years toward the end of the company's annual release cycle, especially in China.\",\n",
       "   'raw_content': None},\n",
       "  {'url': 'https://www.marketscreener.com/quote/stock/INTEL-CORPORATION-4829/news/Intel-s-CEO-search-in-focus-as-chipmaker-set-to-post-lower-revenue-48900357/',\n",
       "   'title': \"Intel's CEO search in focus as chipmaker set to post lower revenue -January 29, 2025 at 05:40 am EST - Marketscreener.com\",\n",
       "   'score': 0.8271616697311401,\n",
       "   'published_date': 'Wed, 29 Jan 2025 10:40:57 GMT',\n",
       "   'content': '(Reuters) - Intel will face investor scrutiny on its CEO search when it reports quarterly results on Thursday, as the chipmaker stares at another big decline in revenue due to weak PC sales and its shrinking share in the datacenter market. Northland Capital, which has an \"outperform\" rating for Intel, said Intel\\'s share price should rest at about $28, giving it a market value of more than $120 billion. Intel shares sank 60% last year in their worst annual performance in at least five decades as the company struggled to regain its lost lead in manufacturing and missed out on the AI boom dominated by Nvidia. Susquehanna Adjusts Intel Price Target to $24 From $26, Maintains Neutral Rating',\n",
       "   'raw_content': None},\n",
       "  {'url': 'https://www.forbes.com/sites/greatspeculations/2025/06/12/when-will-intel-rebound/',\n",
       "   'title': 'When Will Intel Rebound? - Forbes',\n",
       "   'score': 0.824011504650116,\n",
       "   'published_date': 'Thu, 12 Jun 2025 09:30:49 GMT',\n",
       "   'content': \"• Intel's Operating Income for the last four quarters amounted to $-4.1 Bil, reflecting a **very poor Operating Margin of -7.8%** (in contrast to 13.2% for S&P 500)   • Intel's Operating Cash Flow (OCF) during this period was $10 Bil, indicating a **moderate OCF Margin of 19.5%** (against 14.9% for S&P 500)   • For the last four-quarter span, Intel’s Net Income was $-19 Bil, signifying a **very poor Net Income Margin of -36.2%** (compared to 11.6% for S&P 500) • INTC stock saw a decrease of **56.8%** from a high of $27.98 on December 6, 2007, to $12.08 on February 23, 2009, compared to a peak-to-trough decline of **56.8%** for the S&P 500  \",\n",
       "   'raw_content': None},\n",
       "  {'url': 'https://www.apnakal.com/market/intels-18a-breakthrough-nvidia-and-broadcom-testing-next-gen-manufacturing-process/',\n",
       "   'title': 'Intel’s 18A Breakthrough: NVIDIA and Broadcom Testing Next-Gen Manufacturing Process - Apna Kal',\n",
       "   'score': 0.8225266933441162,\n",
       "   'published_date': 'Sat, 08 Mar 2025 12:40:48 GMT',\n",
       "   'content': \"Intel's 18A Breakthrough: NVIDIA and Broadcom Testing Next-Gen Manufacturing Process Home/Stock_/_Intel’s 18A Breakthrough: NVIDIA and Broadcom Testing Next-Gen Manufacturing Process Intel Corporation (NASDAQ: INTC) is at a pivotal juncture as industry giants NVIDIA and Broadcom evaluate its cutting-edge 18A manufacturing process. Intel’s 18A process technology represents a major leap in semiconductor manufacturing, promising enhanced performance and energy efficiency. If NVIDIA or Broadcom decide to utilize Intel’s foundry services, it could serve as a validation of Intel’s ability to compete with dominant players like Taiwan Semiconductor Manufacturing Company (TSMC) and Samsung. The company’s stock experienced a nearly 7% decline following reports of potential foundry partnerships, reflecting uncertainty about Intel’s ability to compete in a highly competitive landscape.\",\n",
       "   'raw_content': None},\n",
       "  {'url': 'https://www.forbes.com/sites/greatspeculations/2025/04/16/can-nvidia-save-intels-foundry-bet/',\n",
       "   'title': 'Can Nvidia Save Intel’s Foundry Bet? - Forbes',\n",
       "   'score': 0.8210292458534241,\n",
       "   'published_date': 'Wed, 16 Apr 2025 08:15:00 GMT',\n",
       "   'content': 'However, a turnaround could be on the horizon as Intel ramps up production of its advanced 18A process and is reportedly close to securing Nvidia as a foundry customer. To date, Intel’s confirmed foundry clients have largely been non-traditional semiconductor players such as Amazon, Microsoft, Tower Semiconductor, and MediaTek. However, according to UBS, Nvidia may consider using Intel Foundry for manufacturing its gaming GPUs. Securing Nvidia—currently the world’s largest fabless chip designer—would be a significant breakthrough for Intel’s foundry strategy. Other AI-focused semiconductor companies, including Broadcom and AMD, have also expressed interest in Intel’s services, though Nvidia appears furthest along in its evaluation. Intel stock has seen highly volatile performance over the last four years, unlike the more stable S&P 500.',\n",
       "   'raw_content': None},\n",
       "  {'url': 'https://www.forbes.com/sites/greatspeculations/2025/08/16/intel-stocks-biggest-ally-washington/',\n",
       "   'title': \"Intel Stock's Biggest Ally: Washington? - Forbes\",\n",
       "   'score': 0.8206711411476135,\n",
       "   'published_date': 'Sat, 16 Aug 2025 13:40:16 GMT',\n",
       "   'content': \"• Intel has a price-to-sales (P/S) ratio of 1.9 vs. • Intel's Operating Cash Flow (OCF) over this period was $10 Bil, pointing to a **moderate OCF Margin of 19.5%** (vs. • For the last four-quarter period, Intel's Net Income was $-19 Bil - indicating a **very poor Net Income Margin of -36.2%** (vs. • Intel’s Debt figure was $50 Bil at the end of the most recent quarter, while its market capitalization is $102 Bil (as of 8/15/2025). • INTC stock fell **34.8%** from a high of $68.47 on 24 January 2020 to $44.61 on 16 March 2020, vs. • INTC stock fell **56.8%** from a high of $27.98 on 6 December 2007 to $12.08 on 23 February 2009, vs.\",\n",
       "   'raw_content': None},\n",
       "  {'url': 'https://www.jomfruland.net/intel-makes-waves-new-era-for-intc-stock-amid-technological-evolution/',\n",
       "   'title': 'Intel Makes Waves! New Era for INTC Stock Amid Technological Evolution. - Jomfruland.net',\n",
       "   'score': 0.8181191682815552,\n",
       "   'published_date': 'Mon, 03 Feb 2025 07:03:42 GMT',\n",
       "   'content': 'Investors should monitor Intel’s technological advancements and strategic partnerships for potential stock value increases. In a rapidly evolving technological landscape, Intel Corporation’s (NASDAQ: INTC) stock is emerging as a focal point for investors eyeing the future of semiconductor technology. As Intel transitions into new technological realms, its stock could witness an upswing driven by innovation-led growth. In sum, Intel’s bold advancements in technology and strategic focus on AI integration forecast an invigorating future for INTC stock, aligning it with the next era of technological progress. The Innovations Shaping Intel’s Stock Future Here, we explore new insights into Intel’s advancements and the questions they raise about its stock’s future. This technological prowess positions Intel as a leader, potentially enhancing its market share and influencing stock valuations positively.',\n",
       "   'raw_content': None},\n",
       "  {'url': 'https://www.theglobeandmail.com/investing/markets/indices/TXHB/pressreleases/29492390/is-beaten-down-intel-stock-finally-a-buy/',\n",
       "   'title': 'TSX Composite High Beta Index (TXHB) Quote - Press Release - The Globe and Mail',\n",
       "   'score': 0.817394495010376,\n",
       "   'published_date': 'Sat, 09 Nov 2024 17:34:12 GMT',\n",
       "   'content': 'As\\xa0artificial intelligence (AI), data centers, and mobile computing took off, Intel struggled to keep pace, remaining focused on its core PC chip business while competitors diversified into high-growth areas like GPUs and AI accelerators, leaving Intel behind. Drilling into its segments, Intel’s Client Computing Group (CCG), responsible for PC chips, posted $7.3 billion in revenue, down 7% compared to last year, reflecting softness in the PC market. Morgan Stanley’s Joseph Moore echoed the cautious sentiment, noting that Intel’s stock reaction post-earnings reflects “just how low expectations have become, as the quarter was unremarkable, and the sense that they will stay the course was clear at mid-quarter.\" Moore also maintained an “Equal-Weight” rating, with a slightly adjusted price target of $25.58 from the previous $25.',\n",
       "   'raw_content': None},\n",
       "  {'url': 'https://www.theglobeandmail.com/investing/markets/indices/TXBM/pressreleases/29492390/is-beaten-down-intel-stock-finally-a-buy/',\n",
       "   'title': 'TSX Global Base Metals Index (TXBM) Quote - Press Release - The Globe and Mail',\n",
       "   'score': 0.8173844814300537,\n",
       "   'published_date': 'Sat, 09 Nov 2024 19:14:13 GMT',\n",
       "   'content': 'As\\xa0artificial intelligence (AI), data centers, and mobile computing took off, Intel struggled to keep pace, remaining focused on its core PC chip business while competitors diversified into high-growth areas like GPUs and AI accelerators, leaving Intel behind. Drilling into its segments, Intel’s Client Computing Group (CCG), responsible for PC chips, posted $7.3 billion in revenue, down 7% compared to last year, reflecting softness in the PC market. Morgan Stanley’s Joseph Moore echoed the cautious sentiment, noting that Intel’s stock reaction post-earnings reflects “just how low expectations have become, as the quarter was unremarkable, and the sense that they will stay the course was clear at mid-quarter.\" Moore also maintained an “Equal-Weight” rating, with a slightly adjusted price target of $25.58 from the previous $25.',\n",
       "   'raw_content': None},\n",
       "  {'url': 'https://www.theglobeandmail.com/investing/markets/indices/TXBA/pressreleases/29492390/is-beaten-down-intel-stock-finally-a-buy/',\n",
       "   'title': 'TSX Composite Banks Index (TXBA) Quote - Press Release - The Globe and Mail',\n",
       "   'score': 0.8173844814300537,\n",
       "   'published_date': 'Sat, 09 Nov 2024 19:14:13 GMT',\n",
       "   'content': 'As\\xa0artificial intelligence (AI), data centers, and mobile computing took off, Intel struggled to keep pace, remaining focused on its core PC chip business while competitors diversified into high-growth areas like GPUs and AI accelerators, leaving Intel behind. Drilling into its segments, Intel’s Client Computing Group (CCG), responsible for PC chips, posted $7.3 billion in revenue, down 7% compared to last year, reflecting softness in the PC market. Morgan Stanley’s Joseph Moore echoed the cautious sentiment, noting that Intel’s stock reaction post-earnings reflects “just how low expectations have become, as the quarter was unremarkable, and the sense that they will stay the course was clear at mid-quarter.\" Moore also maintained an “Equal-Weight” rating, with a slightly adjusted price target of $25.58 from the previous $25.',\n",
       "   'raw_content': None},\n",
       "  {'url': 'https://www.theglobeandmail.com/investing/markets/indices/TTUT/pressreleases/29492390/is-beaten-down-intel-stock-finally-a-buy/',\n",
       "   'title': 'TSX Utilities Capped Index (TTUT) Quote - Press Release - The Globe and Mail',\n",
       "   'score': 0.8173844814300537,\n",
       "   'published_date': 'Sat, 09 Nov 2024 16:31:53 GMT',\n",
       "   'content': 'As\\xa0artificial intelligence (AI), data centers, and mobile computing took off, Intel struggled to keep pace, remaining focused on its core PC chip business while competitors diversified into high-growth areas like GPUs and AI accelerators, leaving Intel behind. Drilling into its segments, Intel’s Client Computing Group (CCG), responsible for PC chips, posted $7.3 billion in revenue, down 7% compared to last year, reflecting softness in the PC market. Morgan Stanley’s Joseph Moore echoed the cautious sentiment, noting that Intel’s stock reaction post-earnings reflects “just how low expectations have become, as the quarter was unremarkable, and the sense that they will stay the course was clear at mid-quarter.\" Moore also maintained an “Equal-Weight” rating, with a slightly adjusted price target of $25.58 from the previous $25.',\n",
       "   'raw_content': None},\n",
       "  {'url': 'https://www.theglobeandmail.com/investing/markets/indices/SRTS/pressreleases/29492390/is-beaten-down-intel-stock-finally-a-buy/',\n",
       "   'title': 'S&P 500 Communication Services [Sector] (SRTS) Quote - Press Release - The Globe and Mail',\n",
       "   'score': 0.8173747658729553,\n",
       "   'published_date': 'Sat, 09 Nov 2024 19:14:13 GMT',\n",
       "   'content': 'As\\xa0artificial intelligence (AI), data centers, and mobile computing took off, Intel struggled to keep pace, remaining focused on its core PC chip business while competitors diversified into high-growth areas like GPUs and AI accelerators, leaving Intel behind. Drilling into its segments, Intel’s Client Computing Group (CCG), responsible for PC chips, posted $7.3 billion in revenue, down 7% compared to last year, reflecting softness in the PC market. Morgan Stanley’s Joseph Moore echoed the cautious sentiment, noting that Intel’s stock reaction post-earnings reflects “just how low expectations have become, as the quarter was unremarkable, and the sense that they will stay the course was clear at mid-quarter.\" Moore also maintained an “Equal-Weight” rating, with a slightly adjusted price target of $25.58 from the previous $25.',\n",
       "   'raw_content': None},\n",
       "  {'url': 'https://finance.yahoo.com/news/intel-shares-plunge-weak-outlook-122724743.html',\n",
       "   'title': 'Intel Shares Plunge After Weak Outlook Overshadows Solid First-Quarter Beat - Yahoo Finance',\n",
       "   'score': 0.8171267509460449,\n",
       "   'published_date': 'Fri, 25 Apr 2025 12:27:24 GMT',\n",
       "   'content': \"### Finance ### New on Yahoo # Yahoo Finance GuruFocus.com ## In This Article: Intel (NASDAQ:INTC) shares dropped about 5% in Friday's premarket session after the chipmaker delivered stronger-than-expected Q1 earnings but offered a cautious second-quarter outlook. The company posted adjusted earnings and revenue above analyst estimates for the March quarter. Warning! GuruFocus has detected 7 Warning Signs with INTC. Intel cited persistent macroeconomic headwinds and ongoing challenges in the tech supply chain as key factors weighing on forward guidance. The company said it remains focused on long-term investments in manufacturing and AI infrastructure, despite near-term belt tightening. This article first appeared on GuruFocus.\",\n",
       "   'raw_content': None},\n",
       "  {'url': 'https://www.theglobeandmail.com/investing/markets/stocks/AMD-Q/pressreleases/32955063/when-will-intel-reinstate-its-dividend/',\n",
       "   'title': 'When Will Intel Reinstate Its Dividend? - The Globe and Mail',\n",
       "   'score': 0.8160539269447327,\n",
       "   'published_date': 'Thu, 19 Jun 2025 10:28:19 GMT',\n",
       "   'content': \"Intel has spent the past few years investing in new manufacturing facilities and new process technologies in a bid to regain its manufacturing advantage against **TSMC** and build out a foundry business of its own. Even today, with the Intel 18A process marching toward volume production, the foundry business generates minimal revenue from external customers. While Intel had around $21 billion in cash and short-term investments at the end of the first quarter of 2025, it also had more than $50 billion in debt. At the moment, Intel's products business isn't generating nearly enough cash to fund the company's ongoing investments. The _Motley Fool Stock Advisor_ analyst team just identified what they believe are the **10 best stocks** for investors to buy now… and Intel wasn’t one of them.\",\n",
       "   'raw_content': None}],\n",
       " 'response_time': 4.91,\n",
       " 'request_id': 'dc1ed046-56f5-4d52-ac46-8694f8f8693b'}"
      ]
     },
     "execution_count": 1,
     "metadata": {},
     "output_type": "execute_result"
    }
   ],
   "source": [
    "from tavily import TavilyClient\n",
    "\n",
    "tavily_client = TavilyClient(api_key=\"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\")\n",
    "response = tavily_client.search(\"Tell me about Intel's performance in Semiconductor Domain\",\n",
    "                                search_depth=\"advanced\",topic=\"news\",time_range=\"year\",max_results=20,\n",
    "                                include_images=True,include_answer=True,include_image_descriptions=True)\n",
    "\n",
    "\n",
    "response"
   ]
  },
  {
   "cell_type": "code",
   "execution_count": 14,
   "metadata": {},
   "outputs": [
    {
     "data": {
      "text/plain": [
       "dict_keys(['query', 'follow_up_questions', 'answer', 'images', 'results', 'response_time', 'request_id'])"
      ]
     },
     "execution_count": 14,
     "metadata": {},
     "output_type": "execute_result"
    }
   ],
   "source": [
    "response.keys()"
   ]
  },
  {
   "cell_type": "code",
   "execution_count": 17,
   "metadata": {},
   "outputs": [
    {
     "data": {
      "text/plain": [
       "['https://www.euronews.com/partnercontent/intel/securing-the-future/img/articles/article-3-semiconductor-manufacturing/article-3-main-visual.jpg',\n",
       " 'https://www.intel.com/content/dam/developer/articles/technical/trust-domain-extensions-on-4th-gen-xeon-processors/performance-considerations-image-3.png',\n",
       " 'https://www.intel.cn/content/dam/developer/articles/technical/trust-domain-extensions-on-4th-gen-xeon-processors/performance-considerations-image-6.png',\n",
       " 'https://www.intel.com/content/dam/developer/articles/technical/trust-domain-extensions-on-4th-gen-xeon-processors/performance-considerations-image-5.png',\n",
       " 'https://www.intel.com/content/dam/developer/articles/technical/trust-domain-extensions-on-4th-gen-xeon-processors/performance-considerations-image-7.png']"
      ]
     },
     "execution_count": 17,
     "metadata": {},
     "output_type": "execute_result"
    }
   ],
   "source": [
    "response['images']"
   ]
  },
  {
   "cell_type": "code",
   "execution_count": 16,
   "metadata": {},
   "outputs": [
    {
     "data": {
      "text/plain": [
       "\"Intel's performance in the semiconductor domain has seen mixed results recently. Despite reporting Q3 earnings that beat revenue expectations but fell short on earnings per share due to impairment charges, Intel's Client Computing segment and Foundry business have shown varying degrees of performance. Intel is dealing with fallout from missteps in its 18A chip manufacturing process and lost deals, including a potential partnership with Waymo. The company is also undergoing significant restructuring, including a 15% workforce reduction, to address financial challenges and regain market share. Despite these setbacks, Intel is making strategic moves to enhance its position in the AI revolution through advanced chip manufacturing and strategic partnerships. Recent developments highlight Intel's ambitions in foundry services, including talks with AMD and securing partnerships with Microsoft and Amazon, which could bolster its competitive edge in the semiconductor market.\""
      ]
     },
     "execution_count": 16,
     "metadata": {},
     "output_type": "execute_result"
    }
   ],
   "source": [
    "response['answer']"
   ]
  },
  {
   "cell_type": "code",
   "execution_count": 15,
   "metadata": {},
   "outputs": [
    {
     "name": "stdout",
     "output_type": "stream",
     "text": [
      "https://finance.yahoo.com/news/intel-stock-jumps-on-positive-outlook-despite-q3-losses-201212146.html\n",
      "https://www.jomfruland.net/intels-bold-move-how-its-becoming-a-vital-player-in-the-ai-revolution/\n",
      "https://www.iotworldtoday.com/industry/intel-slashes-15-of-workforce-as-new-ceo-battles-financial-crisis\n",
      "https://markets.financialcontent.com/stocks/article/marketminute-2025-10-2-intels-resurgent-fortunes-stock-soars-as-foundry-ambitions-take-center-stage\n",
      "https://www.jomfruland.net/intels-ups-and-downs-is-a-turnaround-on-the-horizon/\n",
      "https://www.jomfruland.net/intels-bold-moves-are-they-the-future-of-semiconductor-stocks/\n",
      "https://ca.news.yahoo.com/secondary-title-200-best-inventions-110953499.html\n",
      "https://www.marketscreener.com/quote/stock/INTEL-CORPORATION-4829/news/Intel-s-CEO-search-in-focus-as-chipmaker-set-to-post-lower-revenue-48900357/\n",
      "https://www.forbes.com/sites/greatspeculations/2025/06/12/when-will-intel-rebound/\n",
      "https://www.apnakal.com/market/intels-18a-breakthrough-nvidia-and-broadcom-testing-next-gen-manufacturing-process/\n",
      "https://www.forbes.com/sites/greatspeculations/2025/04/16/can-nvidia-save-intels-foundry-bet/\n",
      "https://www.forbes.com/sites/greatspeculations/2025/08/16/intel-stocks-biggest-ally-washington/\n",
      "https://www.jomfruland.net/intel-makes-waves-new-era-for-intc-stock-amid-technological-evolution/\n",
      "https://www.theglobeandmail.com/investing/markets/indices/TXHB/pressreleases/29492390/is-beaten-down-intel-stock-finally-a-buy/\n",
      "https://www.theglobeandmail.com/investing/markets/indices/TTUT/pressreleases/29492390/is-beaten-down-intel-stock-finally-a-buy/\n",
      "https://www.theglobeandmail.com/investing/markets/indices/TXBA/pressreleases/29492390/is-beaten-down-intel-stock-finally-a-buy/\n",
      "https://www.theglobeandmail.com/investing/markets/indices/TXBM/pressreleases/29492390/is-beaten-down-intel-stock-finally-a-buy/\n",
      "https://www.theglobeandmail.com/investing/markets/indices/SRTS/pressreleases/29492390/is-beaten-down-intel-stock-finally-a-buy/\n",
      "https://finance.yahoo.com/news/intel-shares-plunge-weak-outlook-122724743.html\n",
      "https://www.theglobeandmail.com/investing/markets/stocks/AMD-Q/pressreleases/32955063/when-will-intel-reinstate-its-dividend/\n"
     ]
    }
   ],
   "source": [
    "for resp in response['results']:\n",
    "    print(resp[\"url\"])"
   ]
  }
 ],
 "metadata": {
  "kernelspec": {
   "display_name": "allenv",
   "language": "python",
   "name": "python3"
  },
  "language_info": {
   "codemirror_mode": {
    "name": "ipython",
    "version": 3
   },
   "file_extension": ".py",
   "mimetype": "text/x-python",
   "name": "python",
   "nbconvert_exporter": "python",
   "pygments_lexer": "ipython3",
   "version": "3.12.3"
  },
  "orig_nbformat": 4
 },
 "nbformat": 4,
 "nbformat_minor": 2
}
